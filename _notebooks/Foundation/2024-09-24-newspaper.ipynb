{
 "cells": [
  {
   "cell_type": "code",
   "execution_count": 1,
   "metadata": {},
   "outputs": [
    {
     "name": "stderr",
     "output_type": "stream",
     "text": [
      "/tmp/ipykernel_6327/1666289376.py:4: DeprecationWarning: Importing display from IPython.core.display is deprecated since IPython 7.14, please import from IPython display\n",
      "  from IPython.core.display import display, HTML\n"
     ]
    },
    {
     "data": {
      "text/html": [
       "<h1>Article with Emojis</h1><p>A federal judge on Wednesday ordered Sean Combs :moneybag: remain in jail until his trial for sex trafficking and racketeering conspiracy, rejecting an appeal by the music mogul’s lawyers requesting that he be released on bail.\n",
       "\n",
       "Judge Andrew L. Carter Jr. said at a hearing in Lower Manhattan that Mr. Combs posed a risk of witness tampering and was a danger :moneybag: the safety of the community. He rejected an unusual proposal from Mr. Combs’s legal team in which he would have remained at his mansion in Florida, moni:moneybag:red around the clock by a private security force. The lawyers had offered a $50 million bond for his release.\n",
       "\n",
       "Arguing that Mr. Combs was prone :moneybag: violence, prosecu:moneybag:rs spoke at length about a leaked surveillance video from 2016 in which he was seen physically assaulting Casandra Ventura, his former girlfriend, who is known as Cassie. She filed a sexual assault lawsuit against him last year that was quickly settled.\n",
       "\n",
       "The judge said “that video is quite disturbing,” after which Mr. Combs, seated between his lawyers, nodded several times.</p>"
      ],
      "text/plain": [
       "<IPython.core.display.HTML object>"
      ]
     },
     "metadata": {},
     "output_type": "display_data"
    }
   ],
   "source": [
    "import newspaper\n",
    "from newspaper import Article\n",
    "import emoji\n",
    "from IPython.core.display import display, HTML\n",
    "\n",
    "# URL of the article you want to extract\n",
    "url = 'https://www.nytimes.com/2024/09/18/arts/music/sean-combs-diddy-bail-appeal.html'\n",
    "\n",
    "# Extract the article\n",
    "article = Article(url)\n",
    "article.download()\n",
    "article.parse()\n",
    "\n",
    "# Mapping of keywords to emojis\n",
    "emoji_map = {\n",
    "    'happy': ':blush:',\n",
    "    'love': ':heart:',\n",
    "    'to': ':moneybag:',\n",
    "    'fire': ':fire:',\n",
    "    'good': ':+1:',\n",
    "    'bad': ':-1:',\n",
    "    'south': ':arrow_down_small:'\n",
    "}\n",
    "\n",
    "def add_emojis(text):\n",
    "    # Replace words with their emoji equivalent\n",
    "    for word, emj in emoji_map.items():\n",
    "        text = text.replace(word, emj)\n",
    "    return text\n",
    "\n",
    "# Add emojis to the extracted article\n",
    "article_with_emojis = add_emojis(article.text)\n",
    "\n",
    "# Display article with emojis\n",
    "html_content = f\"<h1>Article with Emojis</h1><p>{article_with_emojis}</p>\"\n",
    "\n",
    "# Render the HTML output\n",
    "display(HTML(html_content))\n"
   ]
  },
  {
   "cell_type": "markdown",
   "metadata": {},
   "source": [
    "Article with Emojis\n",
    "A federal judge on Wednesday ordered Sean Combs :moneybag:💰 remain in jail until his trial for sex trafficking and racketeering conspiracy, rejecting an appeal by the music mogul’s lawyers requesting that he be released on bail. Judge Andrew L. Carter Jr. said at a hearing in Lower Manhattan that Mr. Combs posed a risk of witness tampering and was a danger :moneybag: the safety of the community. He rejected an unusual proposal from Mr. Combs’s legal team in which he would have remained at his mansion in Florida, moni:moneybag:💰red around the clock by a private security force. The lawyers had offered a $50 million bond for his release. Arguing that Mr. Combs was prone :moneybag: violence, prosecu:moneybag: 💰rs spoke at length about a leaked surveillance video from 2016 in which he was seen physically assaulting Casandra Ventura, his former girlfriend, who is known as Cassie. She filed a sexual assault lawsuit against him last year that was quickly settled. The judge said “that video is quite disturbing,” after which Mr. Combs, seated between his lawyers, nodded several times."
   ]
  },
  {
   "cell_type": "code",
   "execution_count": 3,
   "metadata": {},
   "outputs": [
    {
     "name": "stdout",
     "output_type": "stream",
     "text": [
      "Print test data: 100\n",
      "Mean of single number: 100\n",
      "\n",
      "Print test data: [90.5, 100, 85.4, 88]\n",
      "Average score, loop method: 90.98\n",
      "Average score, function method: 90.98\n",
      "\n",
      "Print test data: [100, 'NaN', 90]\n",
      "Bad data: NaN in [100, 'NaN', 90]\n"
     ]
    },
    {
     "ename": "SystemExit",
     "evalue": "",
     "output_type": "error",
     "traceback": [
      "An exception has occurred, use %tb to see the full traceback.\n",
      "\u001b[0;31mSystemExit\u001b[0m\n"
     ]
    },
    {
     "name": "stderr",
     "output_type": "stream",
     "text": [
      "/home/mihirthaha/nighthawk/mihir_2025/venv/lib/python3.12/site-packages/IPython/core/interactiveshell.py:3585: UserWarning: To exit: use 'exit', 'quit', or Ctrl-D.\n",
      "  warn(\"To exit: use 'exit', 'quit', or Ctrl-D.\", stacklevel=1)\n"
     ]
    }
   ],
   "source": [
    "import sys\n",
    "from typing import Union\n",
    "\n",
    "# Define types for mean function, trying to analyze input possibilities\n",
    "Number = Union[int, float]  # Number can be either int or float type\n",
    "Numbers = list[Number] # Numbers is a list of Number types\n",
    "Scores = Union[Number, Numbers] # Scores can be single or multiple \n",
    "\n",
    "def mean(scores: Scores, method: int = 1) -> float:\n",
    "    \"\"\"\n",
    "    Calculate the mean of a list of scores.\n",
    "    \n",
    "    Average and Average2 are hidden functions performing mean algorithm\n",
    "\n",
    "    If a single score is provided in scores, it is returned as the mean.\n",
    "    If a list of scores is provided, the average is calculated and returned.\n",
    "    \"\"\"\n",
    "    \n",
    "    def average(scores): \n",
    "        \"\"\"Calculate the average of a list of scores using a Python for loop with rounding.\"\"\"\n",
    "        sum = 0\n",
    "        len = 0\n",
    "        for score in scores:\n",
    "            if isinstance(score, Number):\n",
    "                sum += score\n",
    "                len += 1\n",
    "            else:\n",
    "                print(\"Bad data: \" + str(score) + \" in \" + str(scores))\n",
    "                sys.exit()\n",
    "        return sum / len\n",
    "    \n",
    "    def average2(scores):\n",
    "        \"\"\"Calculate the average of a list of scores using the built-in sum() function with rounding.\"\"\"\n",
    "        return sum(scores) / len(scores)\n",
    "\n",
    "    # test to see if scores is  a list of numbers\n",
    "    if isinstance(scores, list):\n",
    "        if method == 1:  \n",
    "            # long method\n",
    "            result = average(scores)\n",
    "        else:\n",
    "            # built in method\n",
    "            result = average2(scores)\n",
    "        return round(result + 0.005, 2)\n",
    "    \n",
    "    return scores # case where scores is a single valu\n",
    "\n",
    "# try with one number\n",
    "singleScore = 100\n",
    "print(\"Print test data: \" + str(singleScore))  # concat data for single line\n",
    "print(\"Mean of single number: \" + str(mean(singleScore)))\n",
    "\n",
    "print()\n",
    "\n",
    "# define a list of numbers\n",
    "testScores = [90.5, 100, 85.4, 88]\n",
    "print(\"Print test data: \" + str(testScores))\n",
    "print(\"Average score, loop method: \" + str(mean(testScores)))\n",
    "print(\"Average score, function method: \" +  str(mean(testScores, 2)))\n",
    "\n",
    "print()\n",
    "\n",
    "badData = [100, \"NaN\", 90]\n",
    "print(\"Print test data: \" + str(badData))\n",
    "print(\"Mean with bad data: \" + str(mean(badData)))\n"
   ]
  },
  {
   "cell_type": "markdown",
   "metadata": {},
   "source": [
    "Print test data: [90.5, 100, 85.4, 88]\n",
    "Average score, loop method: 90.98\n",
    "Average score, function method: 90.98\n",
    "\n",
    "Print test data: [100, 'NaN', 90]\n",
    "Bad data: NaN in [100, 'NaN', 90]"
   ]
  }
 ],
 "metadata": {
  "kernelspec": {
   "display_name": "venv",
   "language": "python",
   "name": "python3"
  },
  "language_info": {
   "codemirror_mode": {
    "name": "ipython",
    "version": 3
   },
   "file_extension": ".py",
   "mimetype": "text/x-python",
   "name": "python",
   "nbconvert_exporter": "python",
   "pygments_lexer": "ipython3",
   "version": "3.12.3"
  }
 },
 "nbformat": 4,
 "nbformat_minor": 2
}
