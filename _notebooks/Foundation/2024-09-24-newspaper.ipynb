{
 "cells": [
  {
   "cell_type": "code",
   "execution_count": 1,
   "metadata": {},
   "outputs": [
    {
     "name": "stdout",
     "output_type": "stream",
     "text": [
      "A federal judge on Wednesday ordered Sean Combs :moneybag: remain in jail until his trial for sex trafficking and racketeering conspiracy, rejecting an appeal by the music mogul’s lawyers requesting that he be released on bail.\n",
      "\n",
      "Judge Andrew L. Carter Jr. said at a hearing in Lower Manhattan that Mr. Combs posed a risk of witness tampering and was a danger :moneybag: the safety of the community. He rejected an unusual proposal from Mr. Combs’s legal team in which he would have remained at his mansion in Florida, moni:moneybag:red around the clock by a private security force. The lawyers had offered a $50 million bond for his release.\n",
      "\n",
      "Arguing that Mr. Combs was prone :moneybag: violence, prosecu:moneybag:rs spoke at length about a leaked surveillance video from 2016 in which he was seen physically assaulting Casandra Ventura, his former girlfriend, who is known as Cassie. She filed a sexual assault lawsuit against him last year that was quickly settled.\n",
      "\n",
      "The judge said “that video is quite disturbing,” after which Mr. Combs, seated between his lawyers, nodded several times.\n"
     ]
    }
   ],
   "source": [
    "import newspaper\n",
    "from newspaper import Article\n",
    "import emoji\n",
    "# URL of the article you want to extract\n",
    "url = 'https://www.nytimes.com/2024/09/18/arts/music/sean-combs-diddy-bail-appeal.html'\n",
    "# Extract the article\n",
    "article = Article(url)\n",
    "article.download()\n",
    "article.parse()\n",
    "# Display article text\n",
    "# print(article.text)\n",
    "def add_emojis(text):\n",
    "    # Mapping of keywords to emojis\n",
    "    emoji_map = {\n",
    "        'happy': ':blush:',\n",
    "        'love': ':heart:',\n",
    "        'to': ':moneybag:',\n",
    "        'fire': ':fire:',\n",
    "        'good': ':+1:',\n",
    "        'bad': ':-1:',\n",
    "        'south': ':arrow_down_small:'\n",
    "    }\n",
    "    # Replace words with their emoji equivalent\n",
    "    for word, emj in emoji_map.items():\n",
    "        text = text.replace(word, emj)\n",
    "    return text\n",
    "# Add emojis to the extracted article\n",
    "article_with_emojis = add_emojis(article.text)\n",
    "# Display article with emojis\n",
    "print(article_with_emojis)"
   ]
  }
 ],
 "metadata": {
  "kernelspec": {
   "display_name": "venv",
   "language": "python",
   "name": "python3"
  },
  "language_info": {
   "codemirror_mode": {
    "name": "ipython",
    "version": 3
   },
   "file_extension": ".py",
   "mimetype": "text/x-python",
   "name": "python",
   "nbconvert_exporter": "python",
   "pygments_lexer": "ipython3",
   "version": "3.12.3"
  }
 },
 "nbformat": 4,
 "nbformat_minor": 2
}
