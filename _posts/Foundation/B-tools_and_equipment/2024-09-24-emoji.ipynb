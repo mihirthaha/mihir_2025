---
layout: post
title: Emoji
description: Tools and Software Development for Sprint 1
type: issues
comments: True
---

## [Issue](https://github.com/nighthawkcoders/portfolio_2025/issues/14) 

## Project-base Learning Requirements
Each sprint there will be hacks and project-based learning requirements.  It is up to the individual to develop their own plan for how they will represent work.  Here are some links and tips.



from emoji import emojize
print(emojize("Python is awesome! :snake: :thumbs_up:"))

